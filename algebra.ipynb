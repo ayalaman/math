{
  "nbformat": 4,
  "nbformat_minor": 0,
  "metadata": {
    "colab": {
      "name": "algebra.ipynb",
      "provenance": [],
      "authorship_tag": "ABX9TyOpRpZvyyGwI+9rRqWqhM1i",
      "include_colab_link": true
    },
    "kernelspec": {
      "name": "python3",
      "display_name": "Python 3"
    }
  },
  "cells": [
    {
      "cell_type": "markdown",
      "metadata": {
        "id": "view-in-github",
        "colab_type": "text"
      },
      "source": [
        "<a href=\"https://colab.research.google.com/github/ayalaman/math/blob/master/algebra.ipynb\" target=\"_parent\"><img src=\"https://colab.research.google.com/assets/colab-badge.svg\" alt=\"Open In Colab\"/></a>"
      ]
    },
    {
      "cell_type": "markdown",
      "metadata": {
        "id": "gpwZsf0RJiUF",
        "colab_type": "text"
      },
      "source": [
        "#Ecuaciones Algebraicas\n"
      ]
    },
    {
      "cell_type": "markdown",
      "metadata": {
        "id": "4L05WJEnK5aU",
        "colab_type": "text"
      },
      "source": [
        "\n",
        "###Expanción de Factores\n"
      ]
    },
    {
      "cell_type": "code",
      "metadata": {
        "id": "C3l_ykUdJ065",
        "colab_type": "code",
        "colab": {
          "base_uri": "https://localhost:8080/",
          "height": 50
        },
        "outputId": "a4055c78-9e7c-4d87-ceac-53a74782f887"
      },
      "source": [
        "from sympy import Symbol, symbols, factor, expand, pprint\n",
        "\n",
        "x = Symbol('x')\n",
        "x + x + 1\n",
        "\n",
        "x,y = symbols('x,y')\n",
        "expr = x**2 - y**2\n",
        "factors = factor(expr)\n",
        "expand(factors)\n",
        "pprint(expand(factors))"
      ],
      "execution_count": 1,
      "outputs": [
        {
          "output_type": "stream",
          "text": [
            " 2    2\n",
            "x  - y \n"
          ],
          "name": "stdout"
        }
      ]
    },
    {
      "cell_type": "markdown",
      "metadata": {
        "id": "AzpwCBXBKIyA",
        "colab_type": "text"
      },
      "source": [
        "##Solución Ecuación algebraica substituyendo valores ´x´ y ´y´"
      ]
    },
    {
      "cell_type": "code",
      "metadata": {
        "id": "Mo28YgqPKMcQ",
        "colab_type": "code",
        "colab": {
          "base_uri": "https://localhost:8080/",
          "height": 67
        },
        "outputId": "3d7fe0c6-5117-4aef-a5d1-937ad1adcf04"
      },
      "source": [
        "from sympy import Symbol, symbols, pprint\n",
        "\n",
        "x = Symbol('x')\n",
        "y = Symbol('y')\n",
        "expr = x*x + x*y +x*y +y*y\n",
        "pprint(expr)\n",
        "res = expr.subs({x:1, y:2})\n",
        "res\n"
      ],
      "execution_count": 2,
      "outputs": [
        {
          "output_type": "stream",
          "text": [
            " 2            2\n",
            "x  + 2⋅x⋅y + y \n"
          ],
          "name": "stdout"
        },
        {
          "output_type": "execute_result",
          "data": {
            "text/plain": [
              "9"
            ]
          },
          "metadata": {
            "tags": []
          },
          "execution_count": 2
        }
      ]
    },
    {
      "cell_type": "markdown",
      "metadata": {
        "id": "S3D8OZUnKlct",
        "colab_type": "text"
      },
      "source": [
        "\n",
        "## Solución Ecuación algebraica substituyendo valores x en funcion de y\n",
        "\n"
      ]
    },
    {
      "cell_type": "code",
      "metadata": {
        "id": "v4bHBAMQKvvc",
        "colab_type": "code",
        "colab": {
          "base_uri": "https://localhost:8080/",
          "height": 67
        },
        "outputId": "acca3702-af93-43f4-e05b-53ba1cddc7b2"
      },
      "source": [
        "from sympy import Symbol, symbols, pprint\n",
        "\n",
        "x = Symbol('x')\n",
        "y = Symbol('y')\n",
        "expr = x*x + x*y +x*y +y*y\n",
        "pprint(expr)\n",
        "res = expr.subs({x:1-y})\n",
        "res"
      ],
      "execution_count": 3,
      "outputs": [
        {
          "output_type": "stream",
          "text": [
            " 2            2\n",
            "x  + 2⋅x⋅y + y \n"
          ],
          "name": "stdout"
        },
        {
          "output_type": "execute_result",
          "data": {
            "text/plain": [
              "y**2 + 2*y*(-y + 1) + (-y + 1)**2"
            ]
          },
          "metadata": {
            "tags": []
          },
          "execution_count": 3
        }
      ]
    },
    {
      "cell_type": "markdown",
      "metadata": {
        "id": "wLTseCSNK_nH",
        "colab_type": "text"
      },
      "source": [
        "###Simplificación de ecuación\n"
      ]
    },
    {
      "cell_type": "code",
      "metadata": {
        "id": "QWehs9bMLHOY",
        "colab_type": "code",
        "colab": {
          "base_uri": "https://localhost:8080/",
          "height": 34
        },
        "outputId": "4e7a8a4d-5585-476d-b712-6c959baf3308"
      },
      "source": [
        "from sympy import Symbol, symbols, pprint, simplify\n",
        "\n",
        "expr1 = x*x + x*y +x*y +y*y\n",
        "expr_subs = expr1.subs({x:1-y})\n",
        "simplify(expr_subs)"
      ],
      "execution_count": 4,
      "outputs": [
        {
          "output_type": "execute_result",
          "data": {
            "text/plain": [
              "1"
            ]
          },
          "metadata": {
            "tags": []
          },
          "execution_count": 4
        }
      ]
    },
    {
      "cell_type": "markdown",
      "metadata": {
        "id": "VLzVeBqiLR43",
        "colab_type": "text"
      },
      "source": [
        "##Solución de Ecuaciones lineales"
      ]
    },
    {
      "cell_type": "code",
      "metadata": {
        "id": "caaXaHSxLUc2",
        "colab_type": "code",
        "colab": {
          "base_uri": "https://localhost:8080/",
          "height": 34
        },
        "outputId": "62f735c2-3eee-467c-ec85-e550c4a00515"
      },
      "source": [
        "from sympy import Symbol, solve\n",
        "x = Symbol('x')\n",
        "expr = x -5-7\n",
        "solve(expr)"
      ],
      "execution_count": 5,
      "outputs": [
        {
          "output_type": "execute_result",
          "data": {
            "text/plain": [
              "[12]"
            ]
          },
          "metadata": {
            "tags": []
          },
          "execution_count": 5
        }
      ]
    },
    {
      "cell_type": "markdown",
      "metadata": {
        "id": "UnycY6iULtVV",
        "colab_type": "text"
      },
      "source": [
        "##Solucion de Ecuaciones Cuadraticas = 0 //regesa en dictionari de Tuples"
      ]
    },
    {
      "cell_type": "code",
      "metadata": {
        "id": "Ur7rp-6TLvQ6",
        "colab_type": "code",
        "colab": {
          "base_uri": "https://localhost:8080/",
          "height": 67
        },
        "outputId": "cc3cd39d-a9ec-4baf-a8df-2b570cd6b6e0"
      },
      "source": [
        "from sympy import Symbol, solve, pprint\n",
        "x = Symbol('x')\n",
        "expr = x**2+5*x+4\n",
        "pprint(expr)\n",
        "solve(expr, dict= True)"
      ],
      "execution_count": 8,
      "outputs": [
        {
          "output_type": "stream",
          "text": [
            " 2          \n",
            "x  + 5⋅x + 4\n"
          ],
          "name": "stdout"
        },
        {
          "output_type": "execute_result",
          "data": {
            "text/plain": [
              "[{x: -4}, {x: -1}]"
            ]
          },
          "metadata": {
            "tags": []
          },
          "execution_count": 8
        }
      ]
    },
    {
      "cell_type": "markdown",
      "metadata": {
        "id": "cpfmP6CRMCW_",
        "colab_type": "text"
      },
      "source": [
        "##Solucion de Ecuaciones Cuadraticas con respuestas complejas"
      ]
    },
    {
      "cell_type": "code",
      "metadata": {
        "id": "9dHTPb9KMGTL",
        "colab_type": "code",
        "colab": {
          "base_uri": "https://localhost:8080/",
          "height": 67
        },
        "outputId": "1e4d1f7a-0bdd-44c2-bc71-c693d939c13c"
      },
      "source": [
        "from sympy import Symbol, solve, pprint\n",
        "x = Symbol('x')\n",
        "expr = x**2+x+1\n",
        "pprint(expr)\n",
        "solve(expr, dict= True)"
      ],
      "execution_count": 9,
      "outputs": [
        {
          "output_type": "stream",
          "text": [
            " 2        \n",
            "x  + x + 1\n"
          ],
          "name": "stdout"
        },
        {
          "output_type": "execute_result",
          "data": {
            "text/plain": [
              "[{x: -1/2 - sqrt(3)*I/2}, {x: -1/2 + sqrt(3)*I/2}]"
            ]
          },
          "metadata": {
            "tags": []
          },
          "execution_count": 9
        }
      ]
    },
    {
      "cell_type": "markdown",
      "metadata": {
        "id": "jv-0TbZuMTve",
        "colab_type": "text"
      },
      "source": [
        "## Solución de una variable en funcion de otras"
      ]
    },
    {
      "cell_type": "code",
      "metadata": {
        "id": "U5bZ7aNTMXH_",
        "colab_type": "code",
        "colab": {
          "base_uri": "https://localhost:8080/",
          "height": 34
        },
        "outputId": "82446222-87af-4aac-d04b-fac5caa10dd9"
      },
      "source": [
        "from sympy import Symbol, solve\n",
        "\n",
        "x = Symbol('x')\n",
        "a = Symbol('a')\n",
        "b = Symbol('b')\n",
        "c = Symbol('c')\n",
        "expr = a*x*x+b*x+c\n",
        "solve(expr, x, dict=True)"
      ],
      "execution_count": 10,
      "outputs": [
        {
          "output_type": "execute_result",
          "data": {
            "text/plain": [
              "[{x: (-b + sqrt(-4*a*c + b**2))/(2*a)}, {x: -(b + sqrt(-4*a*c + b**2))/(2*a)}]"
            ]
          },
          "metadata": {
            "tags": []
          },
          "execution_count": 10
        }
      ]
    },
    {
      "cell_type": "markdown",
      "metadata": {
        "id": "7ibySufqMl6m",
        "colab_type": "text"
      },
      "source": [
        "##Ecuaciones de Física Distancia de cuerpo en movimiento\n"
      ]
    },
    {
      "cell_type": "code",
      "metadata": {
        "id": "-ngeuFb5MmmQ",
        "colab_type": "code",
        "colab": {
          "base_uri": "https://localhost:8080/",
          "height": 101
        },
        "outputId": "b04ee8c6-f01c-4775-e2b2-546f9fbd5653"
      },
      "source": [
        "from sympy import Symbol, solve, pprint\n",
        "\n",
        "s = Symbol('s')\n",
        "u = Symbol('u')\n",
        "t = Symbol('t')\n",
        "a = Symbol('a')\n",
        "expr = u*t + (1/2)*a*t*t -s\n",
        "t_expr = solve(expr, t, dict=True)\n",
        "pprint(t_expr)"
      ],
      "execution_count": 11,
      "outputs": [
        {
          "output_type": "stream",
          "text": [
            "⎡⎧           ______________⎫  ⎧    ⎛       ______________⎞ ⎫⎤\n",
            "⎢⎪          ╱            2 ⎪  ⎪    ⎜      ╱            2 ⎟ ⎪⎥\n",
            "⎢⎨   -u + ╲╱  2.0⋅a⋅s + u  ⎬  ⎨   -⎝u + ╲╱  2.0⋅a⋅s + u  ⎠ ⎬⎥\n",
            "⎢⎪t: ──────────────────────⎪, ⎪t: ─────────────────────────⎪⎥\n",
            "⎣⎩             a           ⎭  ⎩               a            ⎭⎦\n"
          ],
          "name": "stdout"
        }
      ]
    },
    {
      "cell_type": "markdown",
      "metadata": {
        "id": "YCaAxO8lM6ZI",
        "colab_type": "text"
      },
      "source": [
        "## Resolver sistema de ecuaciones lineares = 0"
      ]
    },
    {
      "cell_type": "code",
      "metadata": {
        "id": "SwASdOriM8mk",
        "colab_type": "code",
        "colab": {
          "base_uri": "https://localhost:8080/",
          "height": 67
        },
        "outputId": "eb5d0ffc-9ab7-48cc-da35-a2bde506df52"
      },
      "source": [
        "from sympy import Symbol, solve, pprint\n",
        "\n",
        "x = Symbol('x')\n",
        "y = Symbol('y')\n",
        "expr1 = 2*x + 3*y - 6\n",
        "expr2 = 3*x + 2*y - 12\n",
        "print(solve((expr1, expr2), dict=True))\n",
        "\n",
        "## Comprobación de resultado\n",
        "\n",
        "soln = solve((expr1, expr2), dict=True)\n",
        "soln = soln[0]\n",
        "print(expr1.subs({x:soln[x], y:soln[y]}))\n",
        "print(expr1.subs({x:2, y:3}))          #evaluando con números para cada variable"
      ],
      "execution_count": 16,
      "outputs": [
        {
          "output_type": "stream",
          "text": [
            "[{x: 24/5, y: -6/5}]\n",
            "0\n",
            "7\n"
          ],
          "name": "stdout"
        }
      ]
    },
    {
      "cell_type": "markdown",
      "metadata": {
        "id": "9glvdo-MNMYF",
        "colab_type": "text"
      },
      "source": [
        "## Graficando ecuaciones usando Sympy\n",
        "\n"
      ]
    },
    {
      "cell_type": "code",
      "metadata": {
        "id": "2LU48Xt7NOeL",
        "colab_type": "code",
        "colab": {
          "base_uri": "https://localhost:8080/",
          "height": 406
        },
        "outputId": "55be3908-3182-45af-ccef-fbe90c6cdf31"
      },
      "source": [
        "from sympy.plotting import plot\n",
        "from sympy import Symbol\n",
        "\n",
        "x = Symbol('x')\n",
        "##plot(2*x+3, 3*x+1)\n",
        "plot(2*x*3)\n"
      ],
      "execution_count": 19,
      "outputs": [
        {
          "output_type": "stream",
          "text": [
            "/usr/local/lib/python3.6/dist-packages/sympy/plotting/plot.py:890: MatplotlibDeprecationWarning: \n",
            "The set_smart_bounds function was deprecated in Matplotlib 3.2 and will be removed two minor releases later.\n",
            "  self.ax.spines['left'].set_smart_bounds(True)\n",
            "/usr/local/lib/python3.6/dist-packages/sympy/plotting/plot.py:891: MatplotlibDeprecationWarning: \n",
            "The set_smart_bounds function was deprecated in Matplotlib 3.2 and will be removed two minor releases later.\n",
            "  self.ax.spines['bottom'].set_smart_bounds(False)\n"
          ],
          "name": "stderr"
        },
        {
          "output_type": "display_data",
          "data": {
            "image/png": "[encoded data removed]",
            "text/plain": [
              "<Figure size 432x288 with 1 Axes>"
            ]
          },
          "metadata": {
            "tags": [],
            "needs_background": "light"
          }
        },
        {
          "output_type": "execute_result",
          "data": {
            "text/plain": [
              "<sympy.plotting.plot.Plot at 0x7f6d9d6dc710>"
            ]
          },
          "metadata": {
            "tags": []
          },
          "execution_count": 19
        }
      ]
    },
    {
      "cell_type": "code",
      "metadata": {
        "id": "rob7WEFKI4aE",
        "colab_type": "code",
        "colab": {
          "base_uri": "https://localhost:8080/",
          "height": 1000
        },
        "outputId": "26525bc9-dcaf-4bba-c8a2-ca49e4736bd4"
      },
      "source": [
        "\n",
        "\n",
        "#-------------------------------------------------------------------------\n",
        "#%%\n",
        "# Graficando limitando valores de X\n",
        "from sympy.plotting import plot\n",
        "from sympy import Symbol\n",
        "x = Symbol('x')\n",
        "plot((2*x+3), (x,-5,5))\n",
        "\n",
        "#-------------------------------------------------------------------------\n",
        "#%%\n",
        "\n",
        "#Guardando Grafica\n",
        "p=plot((2*x+3), (x,-5,5), title='A Line', xlabel='x', ylabel='2x+3', show=False)\n",
        "p.save('line.png')\n",
        "\n",
        "#-------------------------------------------------------------------------\n",
        "#%%\n",
        "# Graficando ecuaciones usando Sympy\n",
        "from sympy.plotting import plot\n",
        "from sympy import Symbol\n",
        "x = Symbol('x')\n",
        "p = plot(2*x+3, 3*x+1, legend=True, show=False)\n",
        "p[0].line_color ='b'\n",
        "p[1].line_color ='r'\n",
        "p.show()"
      ],
      "execution_count": 6,
      "outputs": [
        {
          "output_type": "stream",
          "text": [
            " 2          \n",
            "x  + 5⋅x + 4\n",
            " 2        \n",
            "x  + x + 1\n",
            "⎡⎧           ______________⎫  ⎧    ⎛       ______________⎞ ⎫⎤\n",
            "⎢⎪          ╱            2 ⎪  ⎪    ⎜      ╱            2 ⎟ ⎪⎥\n",
            "⎢⎨   -u + ╲╱  2.0⋅a⋅s + u  ⎬  ⎨   -⎝u + ╲╱  2.0⋅a⋅s + u  ⎠ ⎬⎥\n",
            "⎢⎪t: ──────────────────────⎪, ⎪t: ─────────────────────────⎪⎥\n",
            "⎣⎩             a           ⎭  ⎩               a            ⎭⎦\n"
          ],
          "name": "stdout"
        },
        {
          "output_type": "stream",
          "text": [
            "/usr/local/lib/python3.6/dist-packages/sympy/plotting/plot.py:890: MatplotlibDeprecationWarning: \n",
            "The set_smart_bounds function was deprecated in Matplotlib 3.2 and will be removed two minor releases later.\n",
            "  self.ax.spines['left'].set_smart_bounds(True)\n",
            "/usr/local/lib/python3.6/dist-packages/sympy/plotting/plot.py:891: MatplotlibDeprecationWarning: \n",
            "The set_smart_bounds function was deprecated in Matplotlib 3.2 and will be removed two minor releases later.\n",
            "  self.ax.spines['bottom'].set_smart_bounds(False)\n"
          ],
          "name": "stderr"
        },
        {
          "output_type": "display_data",
          "data": {
            "image/png": "[encoded data removed]",
            "text/plain": [
              "<Figure size 432x288 with 1 Axes>"
            ]
          },
          "metadata": {
            "tags": [],
            "needs_background": "light"
          }
        },
        {
          "output_type": "display_data",
          "data": {
            "image/png": "[encoded data removed]",
            "text/plain": [
              "<Figure size 432x288 with 1 Axes>"
            ]
          },
          "metadata": {
            "tags": [],
            "needs_background": "light"
          }
        },
        {
          "output_type": "display_data",
          "data": {
            "image/png": "[encoded data removed]",
            "text/plain": [
              "<Figure size 432x288 with 1 Axes>"
            ]
          },
          "metadata": {
            "tags": [],
            "needs_background": "light"
          }
        },
        {
          "output_type": "display_data",
          "data": {
            "image/png": "[encoded data removed]",
            "text/plain": [
              "<Figure size 432x288 with 1 Axes>"
            ]
          },
          "metadata": {
            "tags": [],
            "needs_background": "light"
          }
        }
      ]
    }
  ]
}